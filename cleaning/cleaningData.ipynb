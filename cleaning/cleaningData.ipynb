{
 "cells": [
  {
   "cell_type": "code",
   "execution_count": 36,
   "id": "15c7f9b1",
   "metadata": {},
   "outputs": [],
   "source": [
    "import pandas as pd\n",
    "\n",
    "# We have 8 CSV files named 'round1.csv', 'round2.csv', ..., 'round8.csv'\n",
    "# Therefore, we store the filenames in a list\n",
    "file_names = ['RoundOne.csv', 'RoundTwo.csv', 'RoundThree.csv', 'RoundFour.csv', 'RoundFive.csv', 'RoundSix.csv', 'RoundSeven.csv', 'RoundEight.csv']\n",
    "\n",
    "# Read the CSV files into DataFrames\n",
    "data_frames = [pd.read_csv(file) for file in file_names]\n",
    "\n",
    "# Merge the DataFrames\n",
    "merged_df = pd.concat(data_frames)\n",
    "\n",
    "# Reset the index if desired\n",
    "merged_df = merged_df.reset_index(drop=True)"
   ]
  },
  {
   "cell_type": "code",
   "execution_count": 37,
   "id": "f8af6ac7",
   "metadata": {},
   "outputs": [
    {
     "data": {
      "text/html": [
       "<div>\n",
       "<style scoped>\n",
       "    .dataframe tbody tr th:only-of-type {\n",
       "        vertical-align: middle;\n",
       "    }\n",
       "\n",
       "    .dataframe tbody tr th {\n",
       "        vertical-align: top;\n",
       "    }\n",
       "\n",
       "    .dataframe thead th {\n",
       "        text-align: right;\n",
       "    }\n",
       "</style>\n",
       "<table border=\"1\" class=\"dataframe\">\n",
       "  <thead>\n",
       "    <tr style=\"text-align: right;\">\n",
       "      <th></th>\n",
       "      <th>location</th>\n",
       "      <th>Nationality</th>\n",
       "      <th>job_Category</th>\n",
       "      <th>EmploymentType</th>\n",
       "      <th>gender</th>\n",
       "      <th>Experience_years</th>\n",
       "      <th>min Education</th>\n",
       "      <th>Name</th>\n",
       "      <th>KeySkills</th>\n",
       "    </tr>\n",
       "  </thead>\n",
       "  <tbody>\n",
       "    <tr>\n",
       "      <th>0</th>\n",
       "      <td>Kabul</td>\n",
       "      <td>National</td>\n",
       "      <td>Business</td>\n",
       "      <td>Full Time</td>\n",
       "      <td>Male</td>\n",
       "      <td>8 years</td>\n",
       "      <td>BA</td>\n",
       "      <td>Position Title: Admin Finance Manager</td>\n",
       "      <td>NaN</td>\n",
       "    </tr>\n",
       "    <tr>\n",
       "      <th>1</th>\n",
       "      <td>Kabul</td>\n",
       "      <td>International</td>\n",
       "      <td>Business</td>\n",
       "      <td>Part Time</td>\n",
       "      <td>Any</td>\n",
       "      <td>8-12 years</td>\n",
       "      <td>MA</td>\n",
       "      <td>Position Title: Grant Coordinator/Proposal Wri...</td>\n",
       "      <td>NaN</td>\n",
       "    </tr>\n",
       "    <tr>\n",
       "      <th>2</th>\n",
       "      <td>Kabul</td>\n",
       "      <td>Any</td>\n",
       "      <td>Business</td>\n",
       "      <td>Part Time</td>\n",
       "      <td>Female</td>\n",
       "      <td>8-12 years</td>\n",
       "      <td>MA</td>\n",
       "      <td>Position Title: Grant Coordinator/Proposal Wri...</td>\n",
       "      <td>NaN</td>\n",
       "    </tr>\n",
       "    <tr>\n",
       "      <th>3</th>\n",
       "      <td>Herat</td>\n",
       "      <td>National</td>\n",
       "      <td>Program/Project</td>\n",
       "      <td>Full Time</td>\n",
       "      <td>Any</td>\n",
       "      <td>3 years</td>\n",
       "      <td>BA</td>\n",
       "      <td>Position Title: Reporting and Data Management ...</td>\n",
       "      <td>NaN</td>\n",
       "    </tr>\n",
       "    <tr>\n",
       "      <th>4</th>\n",
       "      <td>Herat</td>\n",
       "      <td>National</td>\n",
       "      <td>Program/Project</td>\n",
       "      <td>Full Time</td>\n",
       "      <td>Any</td>\n",
       "      <td>5 years</td>\n",
       "      <td>BA</td>\n",
       "      <td>Position Title: District Supervisors / Team Le...</td>\n",
       "      <td>NaN</td>\n",
       "    </tr>\n",
       "    <tr>\n",
       "      <th>...</th>\n",
       "      <td>...</td>\n",
       "      <td>...</td>\n",
       "      <td>...</td>\n",
       "      <td>...</td>\n",
       "      <td>...</td>\n",
       "      <td>...</td>\n",
       "      <td>...</td>\n",
       "      <td>...</td>\n",
       "      <td>...</td>\n",
       "    </tr>\n",
       "    <tr>\n",
       "      <th>2476</th>\n",
       "      <td>Parwan</td>\n",
       "      <td>National</td>\n",
       "      <td>Health Care</td>\n",
       "      <td>Full Time</td>\n",
       "      <td>Any</td>\n",
       "      <td>2 years</td>\n",
       "      <td>BA</td>\n",
       "      <td>Position Title: Medical Doctor (MD)</td>\n",
       "      <td>NaN</td>\n",
       "    </tr>\n",
       "    <tr>\n",
       "      <th>2477</th>\n",
       "      <td>Parwan</td>\n",
       "      <td>National</td>\n",
       "      <td>Health Care</td>\n",
       "      <td>Full Time</td>\n",
       "      <td>Any</td>\n",
       "      <td>1 year</td>\n",
       "      <td>BA</td>\n",
       "      <td>Position Title: MHPSS Counselor</td>\n",
       "      <td>NaN</td>\n",
       "    </tr>\n",
       "    <tr>\n",
       "      <th>2478</th>\n",
       "      <td>Kandahar</td>\n",
       "      <td>National</td>\n",
       "      <td>Business</td>\n",
       "      <td>Full Time</td>\n",
       "      <td>Any</td>\n",
       "      <td>5 years</td>\n",
       "      <td>BA</td>\n",
       "      <td>Position Title: Human Resources Specialist NOC...</td>\n",
       "      <td>NaN</td>\n",
       "    </tr>\n",
       "    <tr>\n",
       "      <th>2479</th>\n",
       "      <td>Parwan</td>\n",
       "      <td>National</td>\n",
       "      <td>Health Care</td>\n",
       "      <td>Full Time</td>\n",
       "      <td>Any</td>\n",
       "      <td>1 year</td>\n",
       "      <td>HS</td>\n",
       "      <td>Position Title: Vaccinator</td>\n",
       "      <td>NaN</td>\n",
       "    </tr>\n",
       "    <tr>\n",
       "      <th>2480</th>\n",
       "      <td>Kabul</td>\n",
       "      <td>National</td>\n",
       "      <td>Business</td>\n",
       "      <td>Full Time</td>\n",
       "      <td>Any</td>\n",
       "      <td>5 years</td>\n",
       "      <td>BA</td>\n",
       "      <td>Position Title: Grant Specialist- Finance</td>\n",
       "      <td>NaN</td>\n",
       "    </tr>\n",
       "  </tbody>\n",
       "</table>\n",
       "<p>2481 rows × 9 columns</p>\n",
       "</div>"
      ],
      "text/plain": [
       "      location    Nationality     job_Category EmploymentType  gender  \\\n",
       "0        Kabul       National         Business      Full Time    Male   \n",
       "1        Kabul  International         Business      Part Time     Any   \n",
       "2        Kabul            Any         Business      Part Time  Female   \n",
       "3        Herat       National  Program/Project      Full Time     Any   \n",
       "4        Herat       National  Program/Project      Full Time     Any   \n",
       "...        ...            ...              ...            ...     ...   \n",
       "2476    Parwan       National      Health Care      Full Time     Any   \n",
       "2477    Parwan       National      Health Care      Full Time     Any   \n",
       "2478  Kandahar       National         Business      Full Time     Any   \n",
       "2479    Parwan       National      Health Care      Full Time     Any   \n",
       "2480     Kabul       National         Business      Full Time     Any   \n",
       "\n",
       "     Experience_years min Education  \\\n",
       "0             8 years            BA   \n",
       "1          8-12 years            MA   \n",
       "2          8-12 years            MA   \n",
       "3             3 years            BA   \n",
       "4             5 years            BA   \n",
       "...               ...           ...   \n",
       "2476          2 years            BA   \n",
       "2477           1 year            BA   \n",
       "2478          5 years            BA   \n",
       "2479           1 year            HS   \n",
       "2480          5 years            BA   \n",
       "\n",
       "                                                   Name KeySkills  \n",
       "0                 Position Title: Admin Finance Manager       NaN  \n",
       "1     Position Title: Grant Coordinator/Proposal Wri...       NaN  \n",
       "2     Position Title: Grant Coordinator/Proposal Wri...       NaN  \n",
       "3     Position Title: Reporting and Data Management ...       NaN  \n",
       "4     Position Title: District Supervisors / Team Le...       NaN  \n",
       "...                                                 ...       ...  \n",
       "2476                Position Title: Medical Doctor (MD)       NaN  \n",
       "2477                    Position Title: MHPSS Counselor       NaN  \n",
       "2478  Position Title: Human Resources Specialist NOC...       NaN  \n",
       "2479                         Position Title: Vaccinator       NaN  \n",
       "2480          Position Title: Grant Specialist- Finance       NaN  \n",
       "\n",
       "[2481 rows x 9 columns]"
      ]
     },
     "execution_count": 37,
     "metadata": {},
     "output_type": "execute_result"
    }
   ],
   "source": [
    "merged_df"
   ]
  },
  {
   "cell_type": "code",
   "execution_count": 38,
   "id": "887f4fe2",
   "metadata": {},
   "outputs": [],
   "source": [
    "merged_df = merged_df.drop('KeySkills', axis=1)\n",
    "#merged_df = merged_df.drop('Experience_Years', axis=1)\n"
   ]
  },
  {
   "cell_type": "code",
   "execution_count": 39,
   "id": "37365328",
   "metadata": {},
   "outputs": [
    {
     "data": {
      "text/plain": [
       "Index(['location', 'Nationality', 'job_Category', 'EmploymentType', 'gender',\n",
       "       'Experience_years', 'min Education', 'Name'],\n",
       "      dtype='object')"
      ]
     },
     "execution_count": 39,
     "metadata": {},
     "output_type": "execute_result"
    }
   ],
   "source": [
    "merged_df.columns"
   ]
  },
  {
   "cell_type": "code",
   "execution_count": 40,
   "id": "c0afc13e",
   "metadata": {},
   "outputs": [],
   "source": [
    "#In order to make the column names consistent, we try to rename them\n",
    "new_column_names = {'location': 'Location', 'Nationality': 'Nationality', 'job_Category': 'Job_Category', \n",
    "                   'EmploymentType': 'Employment_Type', 'gender': 'Gender', 'Experience_years': 'Years_Of_Experience',\n",
    "                   'min Education': 'Minimum_Education', 'Name': 'Job_Title'}\n",
    "merged_df = merged_df.rename(columns=new_column_names)"
   ]
  },
  {
   "cell_type": "code",
   "execution_count": 41,
   "id": "4f84b8e1",
   "metadata": {},
   "outputs": [
    {
     "data": {
      "text/plain": [
       "Index(['Location', 'Nationality', 'Job_Category', 'Employment_Type', 'Gender',\n",
       "       'Years_Of_Experience', 'Minimum_Education', 'Job_Title'],\n",
       "      dtype='object')"
      ]
     },
     "execution_count": 41,
     "metadata": {},
     "output_type": "execute_result"
    }
   ],
   "source": [
    "merged_df.columns"
   ]
  },
  {
   "cell_type": "code",
   "execution_count": 42,
   "id": "0f8be7b2",
   "metadata": {},
   "outputs": [
    {
     "data": {
      "text/plain": [
       "Location               False\n",
       "Nationality            False\n",
       "Job_Category           False\n",
       "Employment_Type        False\n",
       "Gender                 False\n",
       "Years_Of_Experience     True\n",
       "Minimum_Education      False\n",
       "Job_Title              False\n",
       "dtype: bool"
      ]
     },
     "execution_count": 42,
     "metadata": {},
     "output_type": "execute_result"
    }
   ],
   "source": [
    "merged_df.isnull().any()"
   ]
  },
  {
   "cell_type": "code",
   "execution_count": 43,
   "id": "419b9951",
   "metadata": {},
   "outputs": [
    {
     "data": {
      "text/plain": [
       "1"
      ]
     },
     "execution_count": 43,
     "metadata": {},
     "output_type": "execute_result"
    }
   ],
   "source": [
    "missing_count = merged_df['Years_Of_Experience'].isnull().sum()\n",
    "missing_count"
   ]
  },
  {
   "cell_type": "code",
   "execution_count": 44,
   "id": "474dc068",
   "metadata": {},
   "outputs": [
    {
     "data": {
      "text/html": [
       "<div>\n",
       "<style scoped>\n",
       "    .dataframe tbody tr th:only-of-type {\n",
       "        vertical-align: middle;\n",
       "    }\n",
       "\n",
       "    .dataframe tbody tr th {\n",
       "        vertical-align: top;\n",
       "    }\n",
       "\n",
       "    .dataframe thead th {\n",
       "        text-align: right;\n",
       "    }\n",
       "</style>\n",
       "<table border=\"1\" class=\"dataframe\">\n",
       "  <thead>\n",
       "    <tr style=\"text-align: right;\">\n",
       "      <th></th>\n",
       "      <th>Location</th>\n",
       "      <th>Nationality</th>\n",
       "      <th>Job_Category</th>\n",
       "      <th>Employment_Type</th>\n",
       "      <th>Gender</th>\n",
       "      <th>Years_Of_Experience</th>\n",
       "      <th>Minimum_Education</th>\n",
       "      <th>Job_Title</th>\n",
       "    </tr>\n",
       "  </thead>\n",
       "  <tbody>\n",
       "    <tr>\n",
       "      <th>298</th>\n",
       "      <td>Ghowr</td>\n",
       "      <td>National</td>\n",
       "      <td>Program/Project</td>\n",
       "      <td>Full Time</td>\n",
       "      <td>Any</td>\n",
       "      <td>NaN</td>\n",
       "      <td>BA</td>\n",
       "      <td>Position Title: Access facilitator</td>\n",
       "    </tr>\n",
       "  </tbody>\n",
       "</table>\n",
       "</div>"
      ],
      "text/plain": [
       "    Location Nationality     Job_Category Employment_Type Gender  \\\n",
       "298    Ghowr    National  Program/Project       Full Time    Any   \n",
       "\n",
       "    Years_Of_Experience Minimum_Education                           Job_Title  \n",
       "298                 NaN                BA  Position Title: Access facilitator  "
      ]
     },
     "execution_count": 44,
     "metadata": {},
     "output_type": "execute_result"
    }
   ],
   "source": [
    "missing_values = merged_df[merged_df['Years_Of_Experience'].isnull()]\n",
    "missing_values"
   ]
  },
  {
   "cell_type": "code",
   "execution_count": null,
   "id": "bbc2d53f",
   "metadata": {},
   "outputs": [],
   "source": []
  },
  {
   "cell_type": "code",
   "execution_count": 45,
   "id": "a072e5da",
   "metadata": {},
   "outputs": [],
   "source": [
    "merged_df.to_csv('data.csv')"
   ]
  },
  {
   "cell_type": "code",
   "execution_count": null,
   "id": "bc74bb46",
   "metadata": {},
   "outputs": [],
   "source": []
  }
 ],
 "metadata": {
  "kernelspec": {
   "display_name": "Python 3 (ipykernel)",
   "language": "python",
   "name": "python3"
  },
  "language_info": {
   "codemirror_mode": {
    "name": "ipython",
    "version": 3
   },
   "file_extension": ".py",
   "mimetype": "text/x-python",
   "name": "python",
   "nbconvert_exporter": "python",
   "pygments_lexer": "ipython3",
   "version": "3.10.9"
  }
 },
 "nbformat": 4,
 "nbformat_minor": 5
}
