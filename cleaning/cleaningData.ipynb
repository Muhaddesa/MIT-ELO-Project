{
 "cells": [
  {
   "cell_type": "markdown",
   "id": "e5068e03",
   "metadata": {},
   "source": [
    "The data from <a href=\"https://www.acbar.org/jobs\" > ACBAR website</a> is scraped between June-Sept 2023 in eight rounds. <br>\n",
    "The data contain the following variables: <br>\n",
    "    1. **Location:** different provinces in Afghanistan <br>\n",
    "    2. **Nationality:** national, international, both <br>\n",
    "    3. **Job_Category:** different job categories such as business, health care, IT, security,...<br>\n",
    "    4. **Employment Type:** Full Time, Part Time <br>\n",
    "    5. **Gender:** Male, Female, both <br>\n",
    "    6. **Years_OF_Experience:** Years of experience required <br>\n",
    "    7: **Min_Education:** Minimum education required for each job position <br>\n",
    "    8. **Name:** Title of the job position<br>\n",
    "    \n",
    "    \n",
    "  For more information about <a href=\"https://www.acbar.org\" > ACBAR website</a>"
   ]
  },
  {
   "cell_type": "code",
   "execution_count": 152,
   "id": "15c7f9b1",
   "metadata": {},
   "outputs": [],
   "source": [
    "import pandas as pd\n",
    "\n",
    "# We have 8 CSV files named 'round1.csv', 'round2.csv', ..., 'round8.csv'\n",
    "# Therefore, we store the filenames in a list\n",
    "file_names = ['RoundOne.csv', 'RoundTwo.csv', 'RoundThree.csv', 'RoundFour.csv', 'RoundFive.csv', 'RoundSix.csv', 'RoundSeven.csv', 'RoundEight.csv']\n",
    "\n",
    "# Read the CSV files into DataFrames\n",
    "data_frames = [pd.read_csv(file) for file in file_names]\n",
    "\n",
    "# Merge the DataFrames\n",
    "merged_df = pd.concat(data_frames)\n",
    "\n",
    "# Reset the index if desired\n",
    "merged_df = merged_df.reset_index(drop=True)"
   ]
  },
  {
   "cell_type": "code",
   "execution_count": 153,
   "id": "f8af6ac7",
   "metadata": {},
   "outputs": [
    {
     "data": {
      "text/html": [
       "<div>\n",
       "<style scoped>\n",
       "    .dataframe tbody tr th:only-of-type {\n",
       "        vertical-align: middle;\n",
       "    }\n",
       "\n",
       "    .dataframe tbody tr th {\n",
       "        vertical-align: top;\n",
       "    }\n",
       "\n",
       "    .dataframe thead th {\n",
       "        text-align: right;\n",
       "    }\n",
       "</style>\n",
       "<table border=\"1\" class=\"dataframe\">\n",
       "  <thead>\n",
       "    <tr style=\"text-align: right;\">\n",
       "      <th></th>\n",
       "      <th>location</th>\n",
       "      <th>Nationality</th>\n",
       "      <th>job_Category</th>\n",
       "      <th>EmploymentType</th>\n",
       "      <th>gender</th>\n",
       "      <th>Experience_years</th>\n",
       "      <th>min Education</th>\n",
       "      <th>Name</th>\n",
       "      <th>KeySkills</th>\n",
       "    </tr>\n",
       "  </thead>\n",
       "  <tbody>\n",
       "    <tr>\n",
       "      <th>0</th>\n",
       "      <td>Kabul</td>\n",
       "      <td>National</td>\n",
       "      <td>Business</td>\n",
       "      <td>Full Time</td>\n",
       "      <td>Male</td>\n",
       "      <td>8 years</td>\n",
       "      <td>BA</td>\n",
       "      <td>Position Title: Admin Finance Manager</td>\n",
       "      <td>NaN</td>\n",
       "    </tr>\n",
       "    <tr>\n",
       "      <th>1</th>\n",
       "      <td>Kabul</td>\n",
       "      <td>International</td>\n",
       "      <td>Business</td>\n",
       "      <td>Part Time</td>\n",
       "      <td>Any</td>\n",
       "      <td>8-12 years</td>\n",
       "      <td>MA</td>\n",
       "      <td>Position Title: Grant Coordinator/Proposal Wri...</td>\n",
       "      <td>NaN</td>\n",
       "    </tr>\n",
       "    <tr>\n",
       "      <th>2</th>\n",
       "      <td>Kabul</td>\n",
       "      <td>Any</td>\n",
       "      <td>Business</td>\n",
       "      <td>Part Time</td>\n",
       "      <td>Female</td>\n",
       "      <td>8-12 years</td>\n",
       "      <td>MA</td>\n",
       "      <td>Position Title: Grant Coordinator/Proposal Wri...</td>\n",
       "      <td>NaN</td>\n",
       "    </tr>\n",
       "    <tr>\n",
       "      <th>3</th>\n",
       "      <td>Herat</td>\n",
       "      <td>National</td>\n",
       "      <td>Program/Project</td>\n",
       "      <td>Full Time</td>\n",
       "      <td>Any</td>\n",
       "      <td>3 years</td>\n",
       "      <td>BA</td>\n",
       "      <td>Position Title: Reporting and Data Management ...</td>\n",
       "      <td>NaN</td>\n",
       "    </tr>\n",
       "    <tr>\n",
       "      <th>4</th>\n",
       "      <td>Herat</td>\n",
       "      <td>National</td>\n",
       "      <td>Program/Project</td>\n",
       "      <td>Full Time</td>\n",
       "      <td>Any</td>\n",
       "      <td>5 years</td>\n",
       "      <td>BA</td>\n",
       "      <td>Position Title: District Supervisors / Team Le...</td>\n",
       "      <td>NaN</td>\n",
       "    </tr>\n",
       "    <tr>\n",
       "      <th>...</th>\n",
       "      <td>...</td>\n",
       "      <td>...</td>\n",
       "      <td>...</td>\n",
       "      <td>...</td>\n",
       "      <td>...</td>\n",
       "      <td>...</td>\n",
       "      <td>...</td>\n",
       "      <td>...</td>\n",
       "      <td>...</td>\n",
       "    </tr>\n",
       "    <tr>\n",
       "      <th>2476</th>\n",
       "      <td>Parwan</td>\n",
       "      <td>National</td>\n",
       "      <td>Health Care</td>\n",
       "      <td>Full Time</td>\n",
       "      <td>Any</td>\n",
       "      <td>2 years</td>\n",
       "      <td>BA</td>\n",
       "      <td>Position Title: Medical Doctor (MD)</td>\n",
       "      <td>NaN</td>\n",
       "    </tr>\n",
       "    <tr>\n",
       "      <th>2477</th>\n",
       "      <td>Parwan</td>\n",
       "      <td>National</td>\n",
       "      <td>Health Care</td>\n",
       "      <td>Full Time</td>\n",
       "      <td>Any</td>\n",
       "      <td>1 year</td>\n",
       "      <td>BA</td>\n",
       "      <td>Position Title: MHPSS Counselor</td>\n",
       "      <td>NaN</td>\n",
       "    </tr>\n",
       "    <tr>\n",
       "      <th>2478</th>\n",
       "      <td>Kandahar</td>\n",
       "      <td>National</td>\n",
       "      <td>Business</td>\n",
       "      <td>Full Time</td>\n",
       "      <td>Any</td>\n",
       "      <td>5 years</td>\n",
       "      <td>BA</td>\n",
       "      <td>Position Title: Human Resources Specialist NOC...</td>\n",
       "      <td>NaN</td>\n",
       "    </tr>\n",
       "    <tr>\n",
       "      <th>2479</th>\n",
       "      <td>Parwan</td>\n",
       "      <td>National</td>\n",
       "      <td>Health Care</td>\n",
       "      <td>Full Time</td>\n",
       "      <td>Any</td>\n",
       "      <td>1 year</td>\n",
       "      <td>HS</td>\n",
       "      <td>Position Title: Vaccinator</td>\n",
       "      <td>NaN</td>\n",
       "    </tr>\n",
       "    <tr>\n",
       "      <th>2480</th>\n",
       "      <td>Kabul</td>\n",
       "      <td>National</td>\n",
       "      <td>Business</td>\n",
       "      <td>Full Time</td>\n",
       "      <td>Any</td>\n",
       "      <td>5 years</td>\n",
       "      <td>BA</td>\n",
       "      <td>Position Title: Grant Specialist- Finance</td>\n",
       "      <td>NaN</td>\n",
       "    </tr>\n",
       "  </tbody>\n",
       "</table>\n",
       "<p>2481 rows × 9 columns</p>\n",
       "</div>"
      ],
      "text/plain": [
       "      location    Nationality     job_Category EmploymentType  gender  \\\n",
       "0        Kabul       National         Business      Full Time    Male   \n",
       "1        Kabul  International         Business      Part Time     Any   \n",
       "2        Kabul            Any         Business      Part Time  Female   \n",
       "3        Herat       National  Program/Project      Full Time     Any   \n",
       "4        Herat       National  Program/Project      Full Time     Any   \n",
       "...        ...            ...              ...            ...     ...   \n",
       "2476    Parwan       National      Health Care      Full Time     Any   \n",
       "2477    Parwan       National      Health Care      Full Time     Any   \n",
       "2478  Kandahar       National         Business      Full Time     Any   \n",
       "2479    Parwan       National      Health Care      Full Time     Any   \n",
       "2480     Kabul       National         Business      Full Time     Any   \n",
       "\n",
       "     Experience_years min Education  \\\n",
       "0             8 years            BA   \n",
       "1          8-12 years            MA   \n",
       "2          8-12 years            MA   \n",
       "3             3 years            BA   \n",
       "4             5 years            BA   \n",
       "...               ...           ...   \n",
       "2476          2 years            BA   \n",
       "2477           1 year            BA   \n",
       "2478          5 years            BA   \n",
       "2479           1 year            HS   \n",
       "2480          5 years            BA   \n",
       "\n",
       "                                                   Name KeySkills  \n",
       "0                 Position Title: Admin Finance Manager       NaN  \n",
       "1     Position Title: Grant Coordinator/Proposal Wri...       NaN  \n",
       "2     Position Title: Grant Coordinator/Proposal Wri...       NaN  \n",
       "3     Position Title: Reporting and Data Management ...       NaN  \n",
       "4     Position Title: District Supervisors / Team Le...       NaN  \n",
       "...                                                 ...       ...  \n",
       "2476                Position Title: Medical Doctor (MD)       NaN  \n",
       "2477                    Position Title: MHPSS Counselor       NaN  \n",
       "2478  Position Title: Human Resources Specialist NOC...       NaN  \n",
       "2479                         Position Title: Vaccinator       NaN  \n",
       "2480          Position Title: Grant Specialist- Finance       NaN  \n",
       "\n",
       "[2481 rows x 9 columns]"
      ]
     },
     "execution_count": 153,
     "metadata": {},
     "output_type": "execute_result"
    }
   ],
   "source": [
    "merged_df"
   ]
  },
  {
   "cell_type": "code",
   "execution_count": 162,
   "id": "887f4fe2",
   "metadata": {},
   "outputs": [],
   "source": [
    "merged_df = merged_df.drop('KeySkills', axis=1)\n",
    "#merged_df = merged_df.drop('Experience_Years', axis=1)\n"
   ]
  },
  {
   "cell_type": "code",
   "execution_count": 154,
   "id": "37365328",
   "metadata": {},
   "outputs": [
    {
     "data": {
      "text/plain": [
       "Index(['location', 'Nationality', 'job_Category', 'EmploymentType', 'gender',\n",
       "       'Experience_years', 'min Education', 'Name', 'KeySkills'],\n",
       "      dtype='object')"
      ]
     },
     "execution_count": 154,
     "metadata": {},
     "output_type": "execute_result"
    }
   ],
   "source": [
    "merged_df.columns"
   ]
  },
  {
   "cell_type": "markdown",
   "id": "fed2ec4f",
   "metadata": {},
   "source": [
    "# Data Exploratory"
   ]
  },
  {
   "cell_type": "code",
   "execution_count": 155,
   "id": "c0afc13e",
   "metadata": {},
   "outputs": [],
   "source": [
    "#In order to make the column names consistent, we try to rename them\n",
    "new_column_names = {'location': 'Location', 'Nationality': 'Nationality', 'job_Category': 'Job_Category', \n",
    "                   'EmploymentType': 'Employment_Type', 'gender': 'Gender', 'Experience_years': 'Years_Of_Experience',\n",
    "                   'min Education': 'Minimum_Education', 'Name': 'Job_Title'}\n",
    "merged_df = merged_df.rename(columns=new_column_names)"
   ]
  },
  {
   "cell_type": "code",
   "execution_count": 156,
   "id": "4f84b8e1",
   "metadata": {},
   "outputs": [
    {
     "data": {
      "text/plain": [
       "Index(['Location', 'Nationality', 'Job_Category', 'Employment_Type', 'Gender',\n",
       "       'Years_Of_Experience', 'Minimum_Education', 'Job_Title', 'KeySkills'],\n",
       "      dtype='object')"
      ]
     },
     "execution_count": 156,
     "metadata": {},
     "output_type": "execute_result"
    }
   ],
   "source": [
    "merged_df.columns"
   ]
  },
  {
   "cell_type": "code",
   "execution_count": 157,
   "id": "0f8be7b2",
   "metadata": {},
   "outputs": [
    {
     "data": {
      "text/plain": [
       "Location                  0\n",
       "Nationality               0\n",
       "Job_Category              0\n",
       "Employment_Type           0\n",
       "Gender                    0\n",
       "Years_Of_Experience       1\n",
       "Minimum_Education         0\n",
       "Job_Title                 0\n",
       "KeySkills              1689\n",
       "dtype: int64"
      ]
     },
     "execution_count": 157,
     "metadata": {},
     "output_type": "execute_result"
    }
   ],
   "source": [
    "merged_df.isnull().sum()"
   ]
  },
  {
   "cell_type": "code",
   "execution_count": 163,
   "id": "419b9951",
   "metadata": {},
   "outputs": [
    {
     "data": {
      "text/plain": [
       "0"
      ]
     },
     "execution_count": 163,
     "metadata": {},
     "output_type": "execute_result"
    }
   ],
   "source": [
    "missing_count = merged_df['Years_Of_Experience'].isnull().sum()\n",
    "missing_count"
   ]
  },
  {
   "cell_type": "code",
   "execution_count": 164,
   "id": "474dc068",
   "metadata": {},
   "outputs": [
    {
     "data": {
      "text/html": [
       "<div>\n",
       "<style scoped>\n",
       "    .dataframe tbody tr th:only-of-type {\n",
       "        vertical-align: middle;\n",
       "    }\n",
       "\n",
       "    .dataframe tbody tr th {\n",
       "        vertical-align: top;\n",
       "    }\n",
       "\n",
       "    .dataframe thead th {\n",
       "        text-align: right;\n",
       "    }\n",
       "</style>\n",
       "<table border=\"1\" class=\"dataframe\">\n",
       "  <thead>\n",
       "    <tr style=\"text-align: right;\">\n",
       "      <th></th>\n",
       "      <th>Location</th>\n",
       "      <th>Nationality</th>\n",
       "      <th>Job_Category</th>\n",
       "      <th>Employment_Type</th>\n",
       "      <th>Gender</th>\n",
       "      <th>Years_Of_Experience</th>\n",
       "      <th>Minimum_Education</th>\n",
       "      <th>Job_Title</th>\n",
       "    </tr>\n",
       "  </thead>\n",
       "  <tbody>\n",
       "  </tbody>\n",
       "</table>\n",
       "</div>"
      ],
      "text/plain": [
       "Empty DataFrame\n",
       "Columns: [Location, Nationality, Job_Category, Employment_Type, Gender, Years_Of_Experience, Minimum_Education, Job_Title]\n",
       "Index: []"
      ]
     },
     "execution_count": 164,
     "metadata": {},
     "output_type": "execute_result"
    }
   ],
   "source": [
    "missing_values = merged_df[merged_df['Years_Of_Experience'].isnull()]\n",
    "missing_values"
   ]
  },
  {
   "cell_type": "code",
   "execution_count": 165,
   "id": "42eef1be",
   "metadata": {},
   "outputs": [],
   "source": [
    "merged_df = merged_df.dropna(subset=['Years_Of_Experience'], axis=0)\n"
   ]
  },
  {
   "cell_type": "code",
   "execution_count": 166,
   "id": "f64b5556",
   "metadata": {},
   "outputs": [
    {
     "data": {
      "text/html": [
       "<div>\n",
       "<style scoped>\n",
       "    .dataframe tbody tr th:only-of-type {\n",
       "        vertical-align: middle;\n",
       "    }\n",
       "\n",
       "    .dataframe tbody tr th {\n",
       "        vertical-align: top;\n",
       "    }\n",
       "\n",
       "    .dataframe thead th {\n",
       "        text-align: right;\n",
       "    }\n",
       "</style>\n",
       "<table border=\"1\" class=\"dataframe\">\n",
       "  <thead>\n",
       "    <tr style=\"text-align: right;\">\n",
       "      <th></th>\n",
       "      <th>Location</th>\n",
       "      <th>Nationality</th>\n",
       "      <th>Job_Category</th>\n",
       "      <th>Employment_Type</th>\n",
       "      <th>Gender</th>\n",
       "      <th>Years_Of_Experience</th>\n",
       "      <th>Minimum_Education</th>\n",
       "      <th>Job_Title</th>\n",
       "    </tr>\n",
       "  </thead>\n",
       "  <tbody>\n",
       "    <tr>\n",
       "      <th>0</th>\n",
       "      <td>Kabul</td>\n",
       "      <td>National</td>\n",
       "      <td>Business</td>\n",
       "      <td>Full Time</td>\n",
       "      <td>Male</td>\n",
       "      <td>8 years</td>\n",
       "      <td>BA</td>\n",
       "      <td>Position Title: Admin Finance Manager</td>\n",
       "    </tr>\n",
       "    <tr>\n",
       "      <th>1</th>\n",
       "      <td>Kabul</td>\n",
       "      <td>International</td>\n",
       "      <td>Business</td>\n",
       "      <td>Part Time</td>\n",
       "      <td>Any</td>\n",
       "      <td>8-12 years</td>\n",
       "      <td>MA</td>\n",
       "      <td>Position Title: Grant Coordinator/Proposal Wri...</td>\n",
       "    </tr>\n",
       "    <tr>\n",
       "      <th>2</th>\n",
       "      <td>Kabul</td>\n",
       "      <td>Any</td>\n",
       "      <td>Business</td>\n",
       "      <td>Part Time</td>\n",
       "      <td>Female</td>\n",
       "      <td>8-12 years</td>\n",
       "      <td>MA</td>\n",
       "      <td>Position Title: Grant Coordinator/Proposal Wri...</td>\n",
       "    </tr>\n",
       "    <tr>\n",
       "      <th>3</th>\n",
       "      <td>Herat</td>\n",
       "      <td>National</td>\n",
       "      <td>Program/Project</td>\n",
       "      <td>Full Time</td>\n",
       "      <td>Any</td>\n",
       "      <td>3 years</td>\n",
       "      <td>BA</td>\n",
       "      <td>Position Title: Reporting and Data Management ...</td>\n",
       "    </tr>\n",
       "    <tr>\n",
       "      <th>4</th>\n",
       "      <td>Herat</td>\n",
       "      <td>National</td>\n",
       "      <td>Program/Project</td>\n",
       "      <td>Full Time</td>\n",
       "      <td>Any</td>\n",
       "      <td>5 years</td>\n",
       "      <td>BA</td>\n",
       "      <td>Position Title: District Supervisors / Team Le...</td>\n",
       "    </tr>\n",
       "    <tr>\n",
       "      <th>...</th>\n",
       "      <td>...</td>\n",
       "      <td>...</td>\n",
       "      <td>...</td>\n",
       "      <td>...</td>\n",
       "      <td>...</td>\n",
       "      <td>...</td>\n",
       "      <td>...</td>\n",
       "      <td>...</td>\n",
       "    </tr>\n",
       "    <tr>\n",
       "      <th>2476</th>\n",
       "      <td>Parwan</td>\n",
       "      <td>National</td>\n",
       "      <td>Health Care</td>\n",
       "      <td>Full Time</td>\n",
       "      <td>Any</td>\n",
       "      <td>2 years</td>\n",
       "      <td>BA</td>\n",
       "      <td>Position Title: Medical Doctor (MD)</td>\n",
       "    </tr>\n",
       "    <tr>\n",
       "      <th>2477</th>\n",
       "      <td>Parwan</td>\n",
       "      <td>National</td>\n",
       "      <td>Health Care</td>\n",
       "      <td>Full Time</td>\n",
       "      <td>Any</td>\n",
       "      <td>1 year</td>\n",
       "      <td>BA</td>\n",
       "      <td>Position Title: MHPSS Counselor</td>\n",
       "    </tr>\n",
       "    <tr>\n",
       "      <th>2478</th>\n",
       "      <td>Kandahar</td>\n",
       "      <td>National</td>\n",
       "      <td>Business</td>\n",
       "      <td>Full Time</td>\n",
       "      <td>Any</td>\n",
       "      <td>5 years</td>\n",
       "      <td>BA</td>\n",
       "      <td>Position Title: Human Resources Specialist NOC...</td>\n",
       "    </tr>\n",
       "    <tr>\n",
       "      <th>2479</th>\n",
       "      <td>Parwan</td>\n",
       "      <td>National</td>\n",
       "      <td>Health Care</td>\n",
       "      <td>Full Time</td>\n",
       "      <td>Any</td>\n",
       "      <td>1 year</td>\n",
       "      <td>HS</td>\n",
       "      <td>Position Title: Vaccinator</td>\n",
       "    </tr>\n",
       "    <tr>\n",
       "      <th>2480</th>\n",
       "      <td>Kabul</td>\n",
       "      <td>National</td>\n",
       "      <td>Business</td>\n",
       "      <td>Full Time</td>\n",
       "      <td>Any</td>\n",
       "      <td>5 years</td>\n",
       "      <td>BA</td>\n",
       "      <td>Position Title: Grant Specialist- Finance</td>\n",
       "    </tr>\n",
       "  </tbody>\n",
       "</table>\n",
       "<p>2480 rows × 8 columns</p>\n",
       "</div>"
      ],
      "text/plain": [
       "      Location    Nationality     Job_Category Employment_Type  Gender  \\\n",
       "0        Kabul       National         Business       Full Time    Male   \n",
       "1        Kabul  International         Business       Part Time     Any   \n",
       "2        Kabul            Any         Business       Part Time  Female   \n",
       "3        Herat       National  Program/Project       Full Time     Any   \n",
       "4        Herat       National  Program/Project       Full Time     Any   \n",
       "...        ...            ...              ...             ...     ...   \n",
       "2476    Parwan       National      Health Care       Full Time     Any   \n",
       "2477    Parwan       National      Health Care       Full Time     Any   \n",
       "2478  Kandahar       National         Business       Full Time     Any   \n",
       "2479    Parwan       National      Health Care       Full Time     Any   \n",
       "2480     Kabul       National         Business       Full Time     Any   \n",
       "\n",
       "     Years_Of_Experience Minimum_Education  \\\n",
       "0                8 years                BA   \n",
       "1             8-12 years                MA   \n",
       "2             8-12 years                MA   \n",
       "3                3 years                BA   \n",
       "4                5 years                BA   \n",
       "...                  ...               ...   \n",
       "2476             2 years                BA   \n",
       "2477              1 year                BA   \n",
       "2478             5 years                BA   \n",
       "2479              1 year                HS   \n",
       "2480             5 years                BA   \n",
       "\n",
       "                                              Job_Title  \n",
       "0                 Position Title: Admin Finance Manager  \n",
       "1     Position Title: Grant Coordinator/Proposal Wri...  \n",
       "2     Position Title: Grant Coordinator/Proposal Wri...  \n",
       "3     Position Title: Reporting and Data Management ...  \n",
       "4     Position Title: District Supervisors / Team Le...  \n",
       "...                                                 ...  \n",
       "2476                Position Title: Medical Doctor (MD)  \n",
       "2477                    Position Title: MHPSS Counselor  \n",
       "2478  Position Title: Human Resources Specialist NOC...  \n",
       "2479                         Position Title: Vaccinator  \n",
       "2480          Position Title: Grant Specialist- Finance  \n",
       "\n",
       "[2480 rows x 8 columns]"
      ]
     },
     "execution_count": 166,
     "metadata": {},
     "output_type": "execute_result"
    }
   ],
   "source": [
    "merged_df"
   ]
  },
  {
   "cell_type": "markdown",
   "id": "9ee9f831",
   "metadata": {},
   "source": [
    " There are 34 provinces in Afghanistan for location variable we have job ads from different provinces, for\n",
    "better analysis we try to categorize the variable to zones to figure out the location varibale better. "
   ]
  },
  {
   "cell_type": "code",
   "execution_count": 168,
   "id": "bc74bb46",
   "metadata": {},
   "outputs": [],
   "source": [
    "zone_mapping = {\n",
    "    'Kabul Zone': ['Maidan Wardak', 'Logar', 'Kapisa', 'Parwan'],\n",
    "    'Kabul City': 'Kabul',\n",
    "    'North-Zone': ['Samangan', 'Baghlan', 'Balkh', 'Jawzjan', 'Faryab', 'Sar-e Pol', 'Sare Pol'],\n",
    "    'West Zone': ['Badghis', 'Herat', 'Nimruz', 'Farah', 'Ghur', 'Ghowr'],\n",
    "    'Central Highlands': ['Bamian', 'Daikondi', 'Ghazni'],\n",
    "    'North-East Zone': ['Kunduz', 'Takhar', 'Badakhshan', 'Panjshir'],\n",
    "    'South Zone': ['Helmand', 'Kandahar', 'Zabul', 'Oruzgan'],\n",
    "    'East Zone': ['Laghman', 'Nangarhar', 'Paktia', 'Paktika', 'Khost', 'Nuristan', 'Kunar']\n",
    "}\n",
    "\n",
    "# Create a new column based on the mapping\n",
    "merged_df['Location'] = merged_df['Location'].apply(lambda x: next((key for key, value in zone_mapping.items() if x in value), None))\n"
   ]
  },
  {
   "cell_type": "code",
   "execution_count": 169,
   "id": "3a13f104",
   "metadata": {},
   "outputs": [
    {
     "data": {
      "text/html": [
       "<div>\n",
       "<style scoped>\n",
       "    .dataframe tbody tr th:only-of-type {\n",
       "        vertical-align: middle;\n",
       "    }\n",
       "\n",
       "    .dataframe tbody tr th {\n",
       "        vertical-align: top;\n",
       "    }\n",
       "\n",
       "    .dataframe thead th {\n",
       "        text-align: right;\n",
       "    }\n",
       "</style>\n",
       "<table border=\"1\" class=\"dataframe\">\n",
       "  <thead>\n",
       "    <tr style=\"text-align: right;\">\n",
       "      <th></th>\n",
       "      <th>Location</th>\n",
       "      <th>Nationality</th>\n",
       "      <th>Job_Category</th>\n",
       "      <th>Employment_Type</th>\n",
       "      <th>Gender</th>\n",
       "      <th>Years_Of_Experience</th>\n",
       "      <th>Minimum_Education</th>\n",
       "      <th>Job_Title</th>\n",
       "    </tr>\n",
       "  </thead>\n",
       "  <tbody>\n",
       "    <tr>\n",
       "      <th>0</th>\n",
       "      <td>Kabul City</td>\n",
       "      <td>National</td>\n",
       "      <td>Business</td>\n",
       "      <td>Full Time</td>\n",
       "      <td>Male</td>\n",
       "      <td>8 years</td>\n",
       "      <td>BA</td>\n",
       "      <td>Position Title: Admin Finance Manager</td>\n",
       "    </tr>\n",
       "    <tr>\n",
       "      <th>1</th>\n",
       "      <td>Kabul City</td>\n",
       "      <td>International</td>\n",
       "      <td>Business</td>\n",
       "      <td>Part Time</td>\n",
       "      <td>Any</td>\n",
       "      <td>8-12 years</td>\n",
       "      <td>MA</td>\n",
       "      <td>Position Title: Grant Coordinator/Proposal Wri...</td>\n",
       "    </tr>\n",
       "    <tr>\n",
       "      <th>2</th>\n",
       "      <td>Kabul City</td>\n",
       "      <td>Any</td>\n",
       "      <td>Business</td>\n",
       "      <td>Part Time</td>\n",
       "      <td>Female</td>\n",
       "      <td>8-12 years</td>\n",
       "      <td>MA</td>\n",
       "      <td>Position Title: Grant Coordinator/Proposal Wri...</td>\n",
       "    </tr>\n",
       "    <tr>\n",
       "      <th>3</th>\n",
       "      <td>West Zone</td>\n",
       "      <td>National</td>\n",
       "      <td>Program/Project</td>\n",
       "      <td>Full Time</td>\n",
       "      <td>Any</td>\n",
       "      <td>3 years</td>\n",
       "      <td>BA</td>\n",
       "      <td>Position Title: Reporting and Data Management ...</td>\n",
       "    </tr>\n",
       "    <tr>\n",
       "      <th>4</th>\n",
       "      <td>West Zone</td>\n",
       "      <td>National</td>\n",
       "      <td>Program/Project</td>\n",
       "      <td>Full Time</td>\n",
       "      <td>Any</td>\n",
       "      <td>5 years</td>\n",
       "      <td>BA</td>\n",
       "      <td>Position Title: District Supervisors / Team Le...</td>\n",
       "    </tr>\n",
       "  </tbody>\n",
       "</table>\n",
       "</div>"
      ],
      "text/plain": [
       "     Location    Nationality     Job_Category Employment_Type  Gender  \\\n",
       "0  Kabul City       National         Business       Full Time    Male   \n",
       "1  Kabul City  International         Business       Part Time     Any   \n",
       "2  Kabul City            Any         Business       Part Time  Female   \n",
       "3   West Zone       National  Program/Project       Full Time     Any   \n",
       "4   West Zone       National  Program/Project       Full Time     Any   \n",
       "\n",
       "  Years_Of_Experience Minimum_Education  \\\n",
       "0             8 years                BA   \n",
       "1          8-12 years                MA   \n",
       "2          8-12 years                MA   \n",
       "3             3 years                BA   \n",
       "4             5 years                BA   \n",
       "\n",
       "                                           Job_Title  \n",
       "0              Position Title: Admin Finance Manager  \n",
       "1  Position Title: Grant Coordinator/Proposal Wri...  \n",
       "2  Position Title: Grant Coordinator/Proposal Wri...  \n",
       "3  Position Title: Reporting and Data Management ...  \n",
       "4  Position Title: District Supervisors / Team Le...  "
      ]
     },
     "execution_count": 169,
     "metadata": {},
     "output_type": "execute_result"
    }
   ],
   "source": [
    "#merged_df = merged_df.drop('Location_Zone', axis=1)\n",
    "merged_df.head()\n"
   ]
  },
  {
   "cell_type": "code",
   "execution_count": 170,
   "id": "d8728b42",
   "metadata": {},
   "outputs": [
    {
     "data": {
      "text/plain": [
       "Kabul City           1088\n",
       "East Zone             345\n",
       "North-Zone            269\n",
       "West Zone             258\n",
       "South Zone            174\n",
       "North-East Zone       160\n",
       "Central Highlands     105\n",
       "Kabul Zone             81\n",
       "Name: Location, dtype: int64"
      ]
     },
     "execution_count": 170,
     "metadata": {},
     "output_type": "execute_result"
    }
   ],
   "source": [
    "\n",
    "merged_df.Location.value_counts()"
   ]
  },
  {
   "cell_type": "markdown",
   "id": "567f3dc3",
   "metadata": {},
   "source": [
    "Most of job ads are advertised for **Kabul City**"
   ]
  },
  {
   "cell_type": "markdown",
   "id": "8e23a017",
   "metadata": {},
   "source": [
    "For Job_Category variable also, we have different categories, for better analysis, we cateogrize the varibale to only Business, Education, Health, Engineering, Health, IT, Legal, Security, Agriculture, and others."
   ]
  },
  {
   "cell_type": "code",
   "execution_count": 171,
   "id": "c040ea63",
   "metadata": {},
   "outputs": [],
   "source": [
    "def categorize_job_title(job_title):\n",
    "    if job_title in ['Business', 'Banking/Accounting', 'Communication', 'Customer Services', 'Hospitaity', 'Program/Project', \n",
    "                    'Purchasing-Procurement', 'Service', 'Supply Chain', 'Support', 'Professional services']:\n",
    "        return 'Business'\n",
    "    elif job_title in ['Education', 'Research']:\n",
    "        return 'Education'\n",
    "    elif job_title in ['Engineering', 'Construction', 'Design', 'Facilities']:\n",
    "        return 'Engineering'\n",
    "    elif job_title in ['Health', 'Pharmacy', 'Health Care', 'Pharmaceutical']:\n",
    "        return 'Health'\n",
    "    elif job_title == 'Information Technology':\n",
    "        return 'IT'\n",
    "    elif job_title == 'Legal':\n",
    "        return 'Legal'\n",
    "    elif job_title == 'Security':\n",
    "        return 'Security'\n",
    "    elif job_title == 'Agriculture':\n",
    "        return 'Agriculture'\n",
    "    else:\n",
    "        return 'Others'"
   ]
  },
  {
   "cell_type": "code",
   "execution_count": 172,
   "id": "dae43efd",
   "metadata": {},
   "outputs": [],
   "source": [
    "merged_df['Job_Category'] = merged_df['Job_Category'].apply(categorize_job_title)"
   ]
  },
  {
   "cell_type": "code",
   "execution_count": 174,
   "id": "ff7c30a6",
   "metadata": {},
   "outputs": [
    {
     "data": {
      "text/plain": [
       "Business       1213\n",
       "Health          512\n",
       "Others          331\n",
       "Education       135\n",
       "Engineering     109\n",
       "IT               61\n",
       "Security         57\n",
       "Agriculture      44\n",
       "Legal            18\n",
       "Name: Job_Category, dtype: int64"
      ]
     },
     "execution_count": 174,
     "metadata": {},
     "output_type": "execute_result"
    }
   ],
   "source": [
    "merged_df.Job_Category.value_counts()"
   ]
  },
  {
   "cell_type": "code",
   "execution_count": 175,
   "id": "ac504930",
   "metadata": {},
   "outputs": [
    {
     "data": {
      "text/plain": [
       "array(['', '1-3 Years', '4-5 Years', '1 Year', 'None ', '3-4 Years',\n",
       "       '5 Years', '7 Years', '2-3 Years', '3 Years', '2 Years', '8 Years',\n",
       "       '4 Years', '05 Years', '4-6 Years', '1-2 Years', '2-', '1-',\n",
       "       '02 Years', '8-12 Years', '8-12  Years', 'None', '6 Years', 'NOne',\n",
       "       '3-4 Year', '1 Years', '3-5 Years', '10 Years', '2-4 Years',\n",
       "       '7-8 Years', '7 Year', '2-5 Years', '10 Year', '5-6 Years',\n",
       "       '3 Year'], dtype=object)"
      ]
     },
     "execution_count": 175,
     "metadata": {},
     "output_type": "execute_result"
    }
   ],
   "source": [
    "merged_df['Years_Of_Experience'] = merged_df['Years_Of_Experience'].str.replace(r'\\b\\d+\\s*(?:-|\\s)*\\d*\\s*(?:year|years)\\b', '', regex=True)\n",
    "\n",
    "merged_df['Years_Of_Experience'].unique()"
   ]
  },
  {
   "cell_type": "markdown",
   "id": "adad2daa",
   "metadata": {},
   "source": [
    "Years_Of_Experience varibale needs cleaning as we are not able to analyze it this way. So we extract 'year', get \n",
    "the avarage, convert it to numeric. "
   ]
  },
  {
   "cell_type": "code",
   "execution_count": 176,
   "id": "cf888508",
   "metadata": {},
   "outputs": [
    {
     "data": {
      "text/plain": [
       "Location               0\n",
       "Nationality            0\n",
       "Job_Category           0\n",
       "Employment_Type        0\n",
       "Gender                 0\n",
       "Years_Of_Experience    0\n",
       "Minimum_Education      0\n",
       "Job_Title              0\n",
       "dtype: int64"
      ]
     },
     "execution_count": 176,
     "metadata": {},
     "output_type": "execute_result"
    }
   ],
   "source": [
    "merged_df.isna().sum()"
   ]
  },
  {
   "cell_type": "code",
   "execution_count": 177,
   "id": "fc6adc42",
   "metadata": {},
   "outputs": [],
   "source": [
    "import re\n",
    "\n",
    "# Extract the lower and upper bounds of the experience years range\n",
    "def extract_years_range(years_range):\n",
    "    bounds = re.findall(r'\\d+', years_range)\n",
    "    if len(bounds) == 2:\n",
    "        return int(bounds[0]), int(bounds[1])\n",
    "    else:\n",
    "        return None\n",
    "\n",
    "# Calculate the average of experience years\n",
    "def calculate_average(years_range):\n",
    "    bounds = extract_years_range(years_range)\n",
    "    if bounds:\n",
    "        lower_bound, upper_bound = bounds\n",
    "        return (lower_bound + upper_bound) / 2\n",
    "    else:\n",
    "        return years_range\n",
    "\n",
    "# Use the 'apply' function to calculate the average for each row of the 'experience_years' column\n",
    "merged_df['Years_Of_Experience'] = merged_df['Years_Of_Experience'].apply(calculate_average)\n",
    "\n"
   ]
  },
  {
   "cell_type": "code",
   "execution_count": 178,
   "id": "4a60c874",
   "metadata": {},
   "outputs": [
    {
     "data": {
      "text/plain": [
       "array(['', 2.0, 4.5, '1 Year', 'None ', 3.5, '5 Years', '7 Years', 2.5,\n",
       "       '3 Years', '2 Years', '8 Years', '4 Years', '05 Years', 5.0, 1.5,\n",
       "       '2-', '1-', '02 Years', 10.0, 'None', '6 Years', 'NOne', '1 Years',\n",
       "       4.0, '10 Years', 3.0, 7.5, '7 Year', '10 Year', 5.5, '3 Year'],\n",
       "      dtype=object)"
      ]
     },
     "execution_count": 178,
     "metadata": {},
     "output_type": "execute_result"
    }
   ],
   "source": [
    "merged_df['Years_Of_Experience'].unique()\n"
   ]
  },
  {
   "cell_type": "code",
   "execution_count": 179,
   "id": "40ab3312",
   "metadata": {},
   "outputs": [
    {
     "data": {
      "text/plain": [
       "array(['', '2.0', '4.5', '1 ', 'None ', '3.5', '5 ', '7 ', '2.5', '3 ',\n",
       "       '2 ', '8 ', '4 ', '05 ', '5.0', '1.5', '2-', '1-', '02 ', '10.0',\n",
       "       '6 ', '4.0', '10 ', '3.0', '7.5', '5.5'], dtype=object)"
      ]
     },
     "execution_count": 179,
     "metadata": {},
     "output_type": "execute_result"
    }
   ],
   "source": [
    "for index in range(len(merged_df[\"Years_Of_Experience\"])):\n",
    "    string = str(merged_df['Years_Of_Experience'].iat[index])\n",
    "    if string.lower() == 'none' or string.lower() == 'n0ne' or string.lower() == 'None ':\n",
    "        merged_df['Years_Of_Experience'].iat[index] = ''\n",
    "    else:\n",
    "        replace_years = string.replace('years', '')\n",
    "        replace_Years = replace_years.replace('Years', '')\n",
    "        replace_year = replace_Years.replace('year', '')\n",
    "        replace_Year = replace_year.replace('Year', '')\n",
    "        merged_df['Years_Of_Experience'].iat[index] = replace_Year\n",
    "#merged_df[\"Years_Of_Experience\"] = pd.to_numeric(merged_df[\"Years_Of_Experience\"])\n",
    "merged_df[\"Years_Of_Experience\"].unique()"
   ]
  },
  {
   "cell_type": "code",
   "execution_count": 185,
   "id": "f4852140",
   "metadata": {},
   "outputs": [],
   "source": [
    "merged_df['Years_Of_Experience'] = merged_df['Years_Of_Experience'].replace(['', 'None'], float('nan'))\n",
    "\n",
    "median_value = merged_df['Years_Of_Experience'].median()\n",
    "merged_df['Years_Of_Experience'] = merged_df['Years_Of_Experience'].fillna(median_value)\n",
    "\n",
    "\n",
    "merged_df['Years_Of_Experience'] = pd.to_numeric(merged_df['Years_Of_Experience'], errors='coerce')"
   ]
  },
  {
   "cell_type": "code",
   "execution_count": 186,
   "id": "6103da17",
   "metadata": {},
   "outputs": [
    {
     "data": {
      "text/plain": [
       "Location               0\n",
       "Nationality            0\n",
       "Job_Category           0\n",
       "Employment_Type        0\n",
       "Gender                 0\n",
       "Years_Of_Experience    0\n",
       "Minimum_Education      0\n",
       "Job_Title              0\n",
       "dtype: int64"
      ]
     },
     "execution_count": 186,
     "metadata": {},
     "output_type": "execute_result"
    }
   ],
   "source": [
    "\n",
    "merged_df.isna().sum()"
   ]
  },
  {
   "cell_type": "code",
   "execution_count": 189,
   "id": "c5761694",
   "metadata": {},
   "outputs": [
    {
     "data": {
      "image/png": "[encoded data removed]",
      "text/plain": [
       "<Figure size 640x480 with 1 Axes>"
      ]
     },
     "metadata": {},
     "output_type": "display_data"
    }
   ],
   "source": [
    "import matplotlib.pyplot as plt\n",
    "\n",
    "plt.hist(merged_df['Years_Of_Experience'])\n",
    "plt.show()"
   ]
  },
  {
   "cell_type": "code",
   "execution_count": null,
   "id": "647ae8fd",
   "metadata": {},
   "outputs": [],
   "source": []
  }
 ],
 "metadata": {
  "kernelspec": {
   "display_name": "Python 3 (ipykernel)",
   "language": "python",
   "name": "python3"
  },
  "language_info": {
   "codemirror_mode": {
    "name": "ipython",
    "version": 3
   },
   "file_extension": ".py",
   "mimetype": "text/x-python",
   "name": "python",
   "nbconvert_exporter": "python",
   "pygments_lexer": "ipython3",
   "version": "3.10.9"
  }
 },
 "nbformat": 4,
 "nbformat_minor": 5
}
